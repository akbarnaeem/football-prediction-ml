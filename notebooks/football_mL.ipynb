{
  "nbformat": 4,
  "nbformat_minor": 0,
  "metadata": {
    "colab": {
      "provenance": []
    },
    "kernelspec": {
      "name": "python3",
      "display_name": "Python 3"
    },
    "language_info": {
      "name": "python"
    }
  },
  "cells": [
    {
      "cell_type": "markdown",
      "source": [
        "# **Your Match, Your Score**"
      ],
      "metadata": {
        "id": "hMTa49mQWTWH"
      }
    },
    {
      "cell_type": "markdown",
      "source": [
        "Importing Libraries:"
      ],
      "metadata": {
        "id": "ecdu8IhUO6tu"
      }
    },
    {
      "cell_type": "code",
      "execution_count": 1,
      "metadata": {
        "id": "2wIQ4WvzOudM"
      },
      "outputs": [],
      "source": [
        "import pandas as pd\n",
        "from sklearn.model_selection import train_test_split\n",
        "from sklearn.ensemble import RandomForestClassifier\n",
        "from sklearn.metrics import accuracy_score, confusion_matrix"
      ]
    },
    {
      "cell_type": "markdown",
      "source": [
        "Loading Data:"
      ],
      "metadata": {
        "id": "MmGVpp5CPF2z"
      }
    },
    {
      "cell_type": "code",
      "source": [
        "data = pd.read_csv('/all_games.csv')"
      ],
      "metadata": {
        "colab": {
          "base_uri": "https://localhost:8080/",
          "height": 0
        },
        "id": "9-cKUVLePLEi",
        "outputId": "4a46cfe9-2b7d-4686-fbd5-297b31baf721"
      },
      "execution_count": 8,
      "outputs": [
        {
          "output_type": "stream",
          "name": "stderr",
          "text": [
            "<ipython-input-8-54babf1c0512>:1: DtypeWarning: Columns (10) have mixed types. Specify dtype option on import or set low_memory=False.\n",
            "  data = pd.read_csv('/all_games.csv')\n"
          ]
        }
      ]
    },
    {
      "cell_type": "markdown",
      "source": [
        "Displaying the first few rows of the dataset:"
      ],
      "metadata": {
        "id": "KNMFYT4MPPwE"
      }
    },
    {
      "cell_type": "code",
      "source": [
        "print(data.head())"
      ],
      "metadata": {
        "colab": {
          "base_uri": "https://localhost:8080/",
          "height": 0
        },
        "id": "7cC9b1pEPWcX",
        "outputId": "52fbe18c-a7db-4f66-8d5d-ab1ed08b99eb"
      },
      "execution_count": 9,
      "outputs": [
        {
          "output_type": "stream",
          "name": "stdout",
          "text": [
            "  Div        Date      HomeTeam        AwayTeam  FTHG  FTAG FTR  HTHG  HTAG  \\\n",
            "0  E0  10/08/2018    Man United       Leicester     2     1   H     1     0   \n",
            "1  E0  11/08/2018   Bournemouth         Cardiff     2     0   H     1     0   \n",
            "2  E0  11/08/2018        Fulham  Crystal Palace     0     2   A     0     1   \n",
            "3  E0  11/08/2018  Huddersfield         Chelsea     0     3   A     0     2   \n",
            "4  E0  11/08/2018     Newcastle       Tottenham     1     2   A     1     2   \n",
            "\n",
            "  HTR  ... GBA  BSH  BSD  BSA  SBH  SBD  SBA   X  X.1  X.2  \n",
            "0   H  ... NaN  NaN  NaN  NaN  NaN  NaN  NaN NaN  NaN  NaN  \n",
            "1   H  ... NaN  NaN  NaN  NaN  NaN  NaN  NaN NaN  NaN  NaN  \n",
            "2   A  ... NaN  NaN  NaN  NaN  NaN  NaN  NaN NaN  NaN  NaN  \n",
            "3   A  ... NaN  NaN  NaN  NaN  NaN  NaN  NaN NaN  NaN  NaN  \n",
            "4   A  ... NaN  NaN  NaN  NaN  NaN  NaN  NaN NaN  NaN  NaN  \n",
            "\n",
            "[5 rows x 82 columns]\n"
          ]
        }
      ]
    },
    {
      "cell_type": "markdown",
      "source": [
        "Encoding the Full Time Result (FTR):"
      ],
      "metadata": {
        "id": "01X60uh1PYRj"
      }
    },
    {
      "cell_type": "code",
      "source": [
        "data['FTR'] = data['FTR'].map({'H': 1, 'D': 0, 'A': -1})"
      ],
      "metadata": {
        "id": "Vr_zhbSSPbhA"
      },
      "execution_count": 10,
      "outputs": []
    },
    {
      "cell_type": "markdown",
      "source": [
        "Checking for missing values:"
      ],
      "metadata": {
        "id": "6zZy3c7yPfsR"
      }
    },
    {
      "cell_type": "code",
      "source": [
        "print(data.isnull().sum())"
      ],
      "metadata": {
        "colab": {
          "base_uri": "https://localhost:8080/",
          "height": 0
        },
        "id": "eJkDCmL1Pm9C",
        "outputId": "81e44742-c9c4-4184-ce63-584db32a7a81"
      },
      "execution_count": 5,
      "outputs": [
        {
          "output_type": "stream",
          "name": "stdout",
          "text": [
            "Team                           0\n",
            "DribbledPast                   0\n",
            "Interception                   0\n",
            "Fouled                         0\n",
            "Fouls                          0\n",
            "Yellow                         0\n",
            "Red                            0\n",
            "Clearance                      0\n",
            "Total block                    0\n",
            "Total goals                    0\n",
            "Successful Dribble             0\n",
            "Total Aerial challenges        0\n",
            "AccLB                          0\n",
            "InAccLB                        0\n",
            "AccSP                          0\n",
            "InAccSP                        0\n",
            "Possession per game            0\n",
            "Average salary per week_1      0\n",
            "Summer transfer_1              0\n",
            "Net spend on transfer          0\n",
            "Average attendance per game    0\n",
            "dtype: int64\n"
          ]
        }
      ]
    },
    {
      "cell_type": "markdown",
      "source": [
        "Creating features for home team strength and away team defense:"
      ],
      "metadata": {
        "id": "aVBiHMwBPqrg"
      }
    },
    {
      "cell_type": "code",
      "source": [
        "data['HomeTeamStrength'] = data.groupby('HomeTeam')['FTHG'].transform('mean')\n",
        "data['AwayTeamDefense'] = data.groupby('AwayTeam')['FTAG'].transform('mean')"
      ],
      "metadata": {
        "id": "_8UmvMnzP8EI"
      },
      "execution_count": 97,
      "outputs": []
    },
    {
      "cell_type": "markdown",
      "source": [
        "Selecting relevant features:"
      ],
      "metadata": {
        "id": "PcU-mS-WP-Dp"
      }
    },
    {
      "cell_type": "code",
      "source": [
        "features = ['HomeTeamStrength', 'AwayTeamDefense', 'FTHG', 'FTAG', 'HS', 'AS']\n",
        "X = data[features]\n",
        "y = data['FTR']"
      ],
      "metadata": {
        "id": "JNErCrjTQA7B"
      },
      "execution_count": 98,
      "outputs": []
    },
    {
      "cell_type": "markdown",
      "source": [
        "Splitting the Data:"
      ],
      "metadata": {
        "id": "BbSRSaAiQDWX"
      }
    },
    {
      "cell_type": "code",
      "source": [
        "X_train, X_test, y_train, y_test = train_test_split(X, y, test_size=0.2, random_state=42)"
      ],
      "metadata": {
        "id": "8xbL_B-LQP97"
      },
      "execution_count": 112,
      "outputs": []
    },
    {
      "cell_type": "markdown",
      "source": [
        "Building ML Model:"
      ],
      "metadata": {
        "id": "M9lU45UgQTiA"
      }
    },
    {
      "cell_type": "code",
      "source": [
        "model = RandomForestClassifier()\n",
        "model.fit(X_train, y_train)"
      ],
      "metadata": {
        "colab": {
          "base_uri": "https://localhost:8080/",
          "height": 80
        },
        "id": "p1XMMEfSQurm",
        "outputId": "99de52b7-bc0c-4166-efa3-d724d23f590a"
      },
      "execution_count": 113,
      "outputs": [
        {
          "output_type": "execute_result",
          "data": {
            "text/plain": [
              "RandomForestClassifier()"
            ],
            "text/html": [
              "<style>#sk-container-id-13 {\n",
              "  /* Definition of color scheme common for light and dark mode */\n",
              "  --sklearn-color-text: #000;\n",
              "  --sklearn-color-text-muted: #666;\n",
              "  --sklearn-color-line: gray;\n",
              "  /* Definition of color scheme for unfitted estimators */\n",
              "  --sklearn-color-unfitted-level-0: #fff5e6;\n",
              "  --sklearn-color-unfitted-level-1: #f6e4d2;\n",
              "  --sklearn-color-unfitted-level-2: #ffe0b3;\n",
              "  --sklearn-color-unfitted-level-3: chocolate;\n",
              "  /* Definition of color scheme for fitted estimators */\n",
              "  --sklearn-color-fitted-level-0: #f0f8ff;\n",
              "  --sklearn-color-fitted-level-1: #d4ebff;\n",
              "  --sklearn-color-fitted-level-2: #b3dbfd;\n",
              "  --sklearn-color-fitted-level-3: cornflowerblue;\n",
              "\n",
              "  /* Specific color for light theme */\n",
              "  --sklearn-color-text-on-default-background: var(--sg-text-color, var(--theme-code-foreground, var(--jp-content-font-color1, black)));\n",
              "  --sklearn-color-background: var(--sg-background-color, var(--theme-background, var(--jp-layout-color0, white)));\n",
              "  --sklearn-color-border-box: var(--sg-text-color, var(--theme-code-foreground, var(--jp-content-font-color1, black)));\n",
              "  --sklearn-color-icon: #696969;\n",
              "\n",
              "  @media (prefers-color-scheme: dark) {\n",
              "    /* Redefinition of color scheme for dark theme */\n",
              "    --sklearn-color-text-on-default-background: var(--sg-text-color, var(--theme-code-foreground, var(--jp-content-font-color1, white)));\n",
              "    --sklearn-color-background: var(--sg-background-color, var(--theme-background, var(--jp-layout-color0, #111)));\n",
              "    --sklearn-color-border-box: var(--sg-text-color, var(--theme-code-foreground, var(--jp-content-font-color1, white)));\n",
              "    --sklearn-color-icon: #878787;\n",
              "  }\n",
              "}\n",
              "\n",
              "#sk-container-id-13 {\n",
              "  color: var(--sklearn-color-text);\n",
              "}\n",
              "\n",
              "#sk-container-id-13 pre {\n",
              "  padding: 0;\n",
              "}\n",
              "\n",
              "#sk-container-id-13 input.sk-hidden--visually {\n",
              "  border: 0;\n",
              "  clip: rect(1px 1px 1px 1px);\n",
              "  clip: rect(1px, 1px, 1px, 1px);\n",
              "  height: 1px;\n",
              "  margin: -1px;\n",
              "  overflow: hidden;\n",
              "  padding: 0;\n",
              "  position: absolute;\n",
              "  width: 1px;\n",
              "}\n",
              "\n",
              "#sk-container-id-13 div.sk-dashed-wrapped {\n",
              "  border: 1px dashed var(--sklearn-color-line);\n",
              "  margin: 0 0.4em 0.5em 0.4em;\n",
              "  box-sizing: border-box;\n",
              "  padding-bottom: 0.4em;\n",
              "  background-color: var(--sklearn-color-background);\n",
              "}\n",
              "\n",
              "#sk-container-id-13 div.sk-container {\n",
              "  /* jupyter's `normalize.less` sets `[hidden] { display: none; }`\n",
              "     but bootstrap.min.css set `[hidden] { display: none !important; }`\n",
              "     so we also need the `!important` here to be able to override the\n",
              "     default hidden behavior on the sphinx rendered scikit-learn.org.\n",
              "     See: https://github.com/scikit-learn/scikit-learn/issues/21755 */\n",
              "  display: inline-block !important;\n",
              "  position: relative;\n",
              "}\n",
              "\n",
              "#sk-container-id-13 div.sk-text-repr-fallback {\n",
              "  display: none;\n",
              "}\n",
              "\n",
              "div.sk-parallel-item,\n",
              "div.sk-serial,\n",
              "div.sk-item {\n",
              "  /* draw centered vertical line to link estimators */\n",
              "  background-image: linear-gradient(var(--sklearn-color-text-on-default-background), var(--sklearn-color-text-on-default-background));\n",
              "  background-size: 2px 100%;\n",
              "  background-repeat: no-repeat;\n",
              "  background-position: center center;\n",
              "}\n",
              "\n",
              "/* Parallel-specific style estimator block */\n",
              "\n",
              "#sk-container-id-13 div.sk-parallel-item::after {\n",
              "  content: \"\";\n",
              "  width: 100%;\n",
              "  border-bottom: 2px solid var(--sklearn-color-text-on-default-background);\n",
              "  flex-grow: 1;\n",
              "}\n",
              "\n",
              "#sk-container-id-13 div.sk-parallel {\n",
              "  display: flex;\n",
              "  align-items: stretch;\n",
              "  justify-content: center;\n",
              "  background-color: var(--sklearn-color-background);\n",
              "  position: relative;\n",
              "}\n",
              "\n",
              "#sk-container-id-13 div.sk-parallel-item {\n",
              "  display: flex;\n",
              "  flex-direction: column;\n",
              "}\n",
              "\n",
              "#sk-container-id-13 div.sk-parallel-item:first-child::after {\n",
              "  align-self: flex-end;\n",
              "  width: 50%;\n",
              "}\n",
              "\n",
              "#sk-container-id-13 div.sk-parallel-item:last-child::after {\n",
              "  align-self: flex-start;\n",
              "  width: 50%;\n",
              "}\n",
              "\n",
              "#sk-container-id-13 div.sk-parallel-item:only-child::after {\n",
              "  width: 0;\n",
              "}\n",
              "\n",
              "/* Serial-specific style estimator block */\n",
              "\n",
              "#sk-container-id-13 div.sk-serial {\n",
              "  display: flex;\n",
              "  flex-direction: column;\n",
              "  align-items: center;\n",
              "  background-color: var(--sklearn-color-background);\n",
              "  padding-right: 1em;\n",
              "  padding-left: 1em;\n",
              "}\n",
              "\n",
              "\n",
              "/* Toggleable style: style used for estimator/Pipeline/ColumnTransformer box that is\n",
              "clickable and can be expanded/collapsed.\n",
              "- Pipeline and ColumnTransformer use this feature and define the default style\n",
              "- Estimators will overwrite some part of the style using the `sk-estimator` class\n",
              "*/\n",
              "\n",
              "/* Pipeline and ColumnTransformer style (default) */\n",
              "\n",
              "#sk-container-id-13 div.sk-toggleable {\n",
              "  /* Default theme specific background. It is overwritten whether we have a\n",
              "  specific estimator or a Pipeline/ColumnTransformer */\n",
              "  background-color: var(--sklearn-color-background);\n",
              "}\n",
              "\n",
              "/* Toggleable label */\n",
              "#sk-container-id-13 label.sk-toggleable__label {\n",
              "  cursor: pointer;\n",
              "  display: flex;\n",
              "  width: 100%;\n",
              "  margin-bottom: 0;\n",
              "  padding: 0.5em;\n",
              "  box-sizing: border-box;\n",
              "  text-align: center;\n",
              "  align-items: start;\n",
              "  justify-content: space-between;\n",
              "  gap: 0.5em;\n",
              "}\n",
              "\n",
              "#sk-container-id-13 label.sk-toggleable__label .caption {\n",
              "  font-size: 0.6rem;\n",
              "  font-weight: lighter;\n",
              "  color: var(--sklearn-color-text-muted);\n",
              "}\n",
              "\n",
              "#sk-container-id-13 label.sk-toggleable__label-arrow:before {\n",
              "  /* Arrow on the left of the label */\n",
              "  content: \"▸\";\n",
              "  float: left;\n",
              "  margin-right: 0.25em;\n",
              "  color: var(--sklearn-color-icon);\n",
              "}\n",
              "\n",
              "#sk-container-id-13 label.sk-toggleable__label-arrow:hover:before {\n",
              "  color: var(--sklearn-color-text);\n",
              "}\n",
              "\n",
              "/* Toggleable content - dropdown */\n",
              "\n",
              "#sk-container-id-13 div.sk-toggleable__content {\n",
              "  max-height: 0;\n",
              "  max-width: 0;\n",
              "  overflow: hidden;\n",
              "  text-align: left;\n",
              "  /* unfitted */\n",
              "  background-color: var(--sklearn-color-unfitted-level-0);\n",
              "}\n",
              "\n",
              "#sk-container-id-13 div.sk-toggleable__content.fitted {\n",
              "  /* fitted */\n",
              "  background-color: var(--sklearn-color-fitted-level-0);\n",
              "}\n",
              "\n",
              "#sk-container-id-13 div.sk-toggleable__content pre {\n",
              "  margin: 0.2em;\n",
              "  border-radius: 0.25em;\n",
              "  color: var(--sklearn-color-text);\n",
              "  /* unfitted */\n",
              "  background-color: var(--sklearn-color-unfitted-level-0);\n",
              "}\n",
              "\n",
              "#sk-container-id-13 div.sk-toggleable__content.fitted pre {\n",
              "  /* unfitted */\n",
              "  background-color: var(--sklearn-color-fitted-level-0);\n",
              "}\n",
              "\n",
              "#sk-container-id-13 input.sk-toggleable__control:checked~div.sk-toggleable__content {\n",
              "  /* Expand drop-down */\n",
              "  max-height: 200px;\n",
              "  max-width: 100%;\n",
              "  overflow: auto;\n",
              "}\n",
              "\n",
              "#sk-container-id-13 input.sk-toggleable__control:checked~label.sk-toggleable__label-arrow:before {\n",
              "  content: \"▾\";\n",
              "}\n",
              "\n",
              "/* Pipeline/ColumnTransformer-specific style */\n",
              "\n",
              "#sk-container-id-13 div.sk-label input.sk-toggleable__control:checked~label.sk-toggleable__label {\n",
              "  color: var(--sklearn-color-text);\n",
              "  background-color: var(--sklearn-color-unfitted-level-2);\n",
              "}\n",
              "\n",
              "#sk-container-id-13 div.sk-label.fitted input.sk-toggleable__control:checked~label.sk-toggleable__label {\n",
              "  background-color: var(--sklearn-color-fitted-level-2);\n",
              "}\n",
              "\n",
              "/* Estimator-specific style */\n",
              "\n",
              "/* Colorize estimator box */\n",
              "#sk-container-id-13 div.sk-estimator input.sk-toggleable__control:checked~label.sk-toggleable__label {\n",
              "  /* unfitted */\n",
              "  background-color: var(--sklearn-color-unfitted-level-2);\n",
              "}\n",
              "\n",
              "#sk-container-id-13 div.sk-estimator.fitted input.sk-toggleable__control:checked~label.sk-toggleable__label {\n",
              "  /* fitted */\n",
              "  background-color: var(--sklearn-color-fitted-level-2);\n",
              "}\n",
              "\n",
              "#sk-container-id-13 div.sk-label label.sk-toggleable__label,\n",
              "#sk-container-id-13 div.sk-label label {\n",
              "  /* The background is the default theme color */\n",
              "  color: var(--sklearn-color-text-on-default-background);\n",
              "}\n",
              "\n",
              "/* On hover, darken the color of the background */\n",
              "#sk-container-id-13 div.sk-label:hover label.sk-toggleable__label {\n",
              "  color: var(--sklearn-color-text);\n",
              "  background-color: var(--sklearn-color-unfitted-level-2);\n",
              "}\n",
              "\n",
              "/* Label box, darken color on hover, fitted */\n",
              "#sk-container-id-13 div.sk-label.fitted:hover label.sk-toggleable__label.fitted {\n",
              "  color: var(--sklearn-color-text);\n",
              "  background-color: var(--sklearn-color-fitted-level-2);\n",
              "}\n",
              "\n",
              "/* Estimator label */\n",
              "\n",
              "#sk-container-id-13 div.sk-label label {\n",
              "  font-family: monospace;\n",
              "  font-weight: bold;\n",
              "  display: inline-block;\n",
              "  line-height: 1.2em;\n",
              "}\n",
              "\n",
              "#sk-container-id-13 div.sk-label-container {\n",
              "  text-align: center;\n",
              "}\n",
              "\n",
              "/* Estimator-specific */\n",
              "#sk-container-id-13 div.sk-estimator {\n",
              "  font-family: monospace;\n",
              "  border: 1px dotted var(--sklearn-color-border-box);\n",
              "  border-radius: 0.25em;\n",
              "  box-sizing: border-box;\n",
              "  margin-bottom: 0.5em;\n",
              "  /* unfitted */\n",
              "  background-color: var(--sklearn-color-unfitted-level-0);\n",
              "}\n",
              "\n",
              "#sk-container-id-13 div.sk-estimator.fitted {\n",
              "  /* fitted */\n",
              "  background-color: var(--sklearn-color-fitted-level-0);\n",
              "}\n",
              "\n",
              "/* on hover */\n",
              "#sk-container-id-13 div.sk-estimator:hover {\n",
              "  /* unfitted */\n",
              "  background-color: var(--sklearn-color-unfitted-level-2);\n",
              "}\n",
              "\n",
              "#sk-container-id-13 div.sk-estimator.fitted:hover {\n",
              "  /* fitted */\n",
              "  background-color: var(--sklearn-color-fitted-level-2);\n",
              "}\n",
              "\n",
              "/* Specification for estimator info (e.g. \"i\" and \"?\") */\n",
              "\n",
              "/* Common style for \"i\" and \"?\" */\n",
              "\n",
              ".sk-estimator-doc-link,\n",
              "a:link.sk-estimator-doc-link,\n",
              "a:visited.sk-estimator-doc-link {\n",
              "  float: right;\n",
              "  font-size: smaller;\n",
              "  line-height: 1em;\n",
              "  font-family: monospace;\n",
              "  background-color: var(--sklearn-color-background);\n",
              "  border-radius: 1em;\n",
              "  height: 1em;\n",
              "  width: 1em;\n",
              "  text-decoration: none !important;\n",
              "  margin-left: 0.5em;\n",
              "  text-align: center;\n",
              "  /* unfitted */\n",
              "  border: var(--sklearn-color-unfitted-level-1) 1pt solid;\n",
              "  color: var(--sklearn-color-unfitted-level-1);\n",
              "}\n",
              "\n",
              ".sk-estimator-doc-link.fitted,\n",
              "a:link.sk-estimator-doc-link.fitted,\n",
              "a:visited.sk-estimator-doc-link.fitted {\n",
              "  /* fitted */\n",
              "  border: var(--sklearn-color-fitted-level-1) 1pt solid;\n",
              "  color: var(--sklearn-color-fitted-level-1);\n",
              "}\n",
              "\n",
              "/* On hover */\n",
              "div.sk-estimator:hover .sk-estimator-doc-link:hover,\n",
              ".sk-estimator-doc-link:hover,\n",
              "div.sk-label-container:hover .sk-estimator-doc-link:hover,\n",
              ".sk-estimator-doc-link:hover {\n",
              "  /* unfitted */\n",
              "  background-color: var(--sklearn-color-unfitted-level-3);\n",
              "  color: var(--sklearn-color-background);\n",
              "  text-decoration: none;\n",
              "}\n",
              "\n",
              "div.sk-estimator.fitted:hover .sk-estimator-doc-link.fitted:hover,\n",
              ".sk-estimator-doc-link.fitted:hover,\n",
              "div.sk-label-container:hover .sk-estimator-doc-link.fitted:hover,\n",
              ".sk-estimator-doc-link.fitted:hover {\n",
              "  /* fitted */\n",
              "  background-color: var(--sklearn-color-fitted-level-3);\n",
              "  color: var(--sklearn-color-background);\n",
              "  text-decoration: none;\n",
              "}\n",
              "\n",
              "/* Span, style for the box shown on hovering the info icon */\n",
              ".sk-estimator-doc-link span {\n",
              "  display: none;\n",
              "  z-index: 9999;\n",
              "  position: relative;\n",
              "  font-weight: normal;\n",
              "  right: .2ex;\n",
              "  padding: .5ex;\n",
              "  margin: .5ex;\n",
              "  width: min-content;\n",
              "  min-width: 20ex;\n",
              "  max-width: 50ex;\n",
              "  color: var(--sklearn-color-text);\n",
              "  box-shadow: 2pt 2pt 4pt #999;\n",
              "  /* unfitted */\n",
              "  background: var(--sklearn-color-unfitted-level-0);\n",
              "  border: .5pt solid var(--sklearn-color-unfitted-level-3);\n",
              "}\n",
              "\n",
              ".sk-estimator-doc-link.fitted span {\n",
              "  /* fitted */\n",
              "  background: var(--sklearn-color-fitted-level-0);\n",
              "  border: var(--sklearn-color-fitted-level-3);\n",
              "}\n",
              "\n",
              ".sk-estimator-doc-link:hover span {\n",
              "  display: block;\n",
              "}\n",
              "\n",
              "/* \"?\"-specific style due to the `<a>` HTML tag */\n",
              "\n",
              "#sk-container-id-13 a.estimator_doc_link {\n",
              "  float: right;\n",
              "  font-size: 1rem;\n",
              "  line-height: 1em;\n",
              "  font-family: monospace;\n",
              "  background-color: var(--sklearn-color-background);\n",
              "  border-radius: 1rem;\n",
              "  height: 1rem;\n",
              "  width: 1rem;\n",
              "  text-decoration: none;\n",
              "  /* unfitted */\n",
              "  color: var(--sklearn-color-unfitted-level-1);\n",
              "  border: var(--sklearn-color-unfitted-level-1) 1pt solid;\n",
              "}\n",
              "\n",
              "#sk-container-id-13 a.estimator_doc_link.fitted {\n",
              "  /* fitted */\n",
              "  border: var(--sklearn-color-fitted-level-1) 1pt solid;\n",
              "  color: var(--sklearn-color-fitted-level-1);\n",
              "}\n",
              "\n",
              "/* On hover */\n",
              "#sk-container-id-13 a.estimator_doc_link:hover {\n",
              "  /* unfitted */\n",
              "  background-color: var(--sklearn-color-unfitted-level-3);\n",
              "  color: var(--sklearn-color-background);\n",
              "  text-decoration: none;\n",
              "}\n",
              "\n",
              "#sk-container-id-13 a.estimator_doc_link.fitted:hover {\n",
              "  /* fitted */\n",
              "  background-color: var(--sklearn-color-fitted-level-3);\n",
              "}\n",
              "</style><div id=\"sk-container-id-13\" class=\"sk-top-container\"><div class=\"sk-text-repr-fallback\"><pre>RandomForestClassifier()</pre><b>In a Jupyter environment, please rerun this cell to show the HTML representation or trust the notebook. <br />On GitHub, the HTML representation is unable to render, please try loading this page with nbviewer.org.</b></div><div class=\"sk-container\" hidden><div class=\"sk-item\"><div class=\"sk-estimator fitted sk-toggleable\"><input class=\"sk-toggleable__control sk-hidden--visually\" id=\"sk-estimator-id-13\" type=\"checkbox\" checked><label for=\"sk-estimator-id-13\" class=\"sk-toggleable__label fitted sk-toggleable__label-arrow\"><div><div>RandomForestClassifier</div></div><div><a class=\"sk-estimator-doc-link fitted\" rel=\"noreferrer\" target=\"_blank\" href=\"https://scikit-learn.org/1.6/modules/generated/sklearn.ensemble.RandomForestClassifier.html\">?<span>Documentation for RandomForestClassifier</span></a><span class=\"sk-estimator-doc-link fitted\">i<span>Fitted</span></span></div></label><div class=\"sk-toggleable__content fitted\"><pre>RandomForestClassifier()</pre></div> </div></div></div></div>"
            ]
          },
          "metadata": {},
          "execution_count": 113
        }
      ]
    },
    {
      "cell_type": "markdown",
      "source": [
        "Evaluating the Model:"
      ],
      "metadata": {
        "id": "2xQxvimGQz0O"
      }
    },
    {
      "cell_type": "code",
      "source": [
        "predictions = model.predict(X_test)\n",
        "accuracy = accuracy_score(y_test, predictions)\n",
        "print(\"Accuracy:\", accuracy * 100, \"%\")"
      ],
      "metadata": {
        "colab": {
          "base_uri": "https://localhost:8080/",
          "height": 0
        },
        "id": "djS15-kaQ3l7",
        "outputId": "bde8f378-a631-47ef-ef74-f3dfd43b8d44"
      },
      "execution_count": 114,
      "outputs": [
        {
          "output_type": "stream",
          "name": "stdout",
          "text": [
            "Accuracy: 99.97261774370209 %\n"
          ]
        }
      ]
    },
    {
      "cell_type": "markdown",
      "source": [
        "Confusion Matrix:"
      ],
      "metadata": {
        "id": "3Jtt1CChQ7De"
      }
    },
    {
      "cell_type": "code",
      "source": [
        "conf_matrix = confusion_matrix(y_test, predictions)\n",
        "print(\"Confusion Matrix:\\n\", conf_matrix)"
      ],
      "metadata": {
        "colab": {
          "base_uri": "https://localhost:8080/",
          "height": 0
        },
        "id": "65aCnnTlQ98d",
        "outputId": "1b472582-2cc9-4585-a0c6-3bec85dee1ca"
      },
      "execution_count": 115,
      "outputs": [
        {
          "output_type": "stream",
          "name": "stdout",
          "text": [
            "Confusion Matrix:\n",
            " [[1046    1    0]\n",
            " [   0  912    0]\n",
            " [   0    0 1693]]\n"
          ]
        }
      ]
    },
    {
      "cell_type": "markdown",
      "source": [
        "Predicting Future Matches:"
      ],
      "metadata": {
        "id": "9o0UNTIhRBkg"
      }
    },
    {
      "cell_type": "code",
      "source": [
        "conf_matrix = confusion_matrix(y_test, predictions)\n",
        "print(\"Confusion Matrix:\\n\", conf_matrix)\n",
        "\n",
        "import matplotlib.pyplot as plt\n",
        "\n",
        "print(\"Displaying Confusion Matrix:\")\n",
        "disp = ConfusionMatrixDisplay(confusion_matrix=conf_matrix, display_labels=model.classes_)\n",
        "disp.plot()\n",
        "plt.title('Confusion Matrix')\n",
        "plt.show()\n",
        "print(\"-\" * 30)\n",
        "\n",
        "print(\"Predicting a new match:\")\n",
        "\n",
        "new_match = pd.DataFrame({\n",
        "    'HomeTeamStrength': [1.5],\n",
        "    'AwayTeamDefense': [1.0],\n",
        "    'FTHG': [0],\n",
        "    'FTAG': [0],\n",
        "    'HS': [0],\n",
        "    'AS': [0]\n",
        "})\n",
        "prediction = model.predict(new_match)\n",
        "print(\"Predicted Result:\", prediction)\n",
        "print(\"-\" * 30)"
      ],
      "metadata": {
        "colab": {
          "base_uri": "https://localhost:8080/",
          "height": 628
        },
        "id": "o_KOABTDRNW1",
        "outputId": "69f3e9b5-9c0d-4e38-85a3-f74025f6ed4c"
      },
      "execution_count": 116,
      "outputs": [
        {
          "output_type": "stream",
          "name": "stdout",
          "text": [
            "Confusion Matrix:\n",
            " [[1046    1    0]\n",
            " [   0  912    0]\n",
            " [   0    0 1693]]\n",
            "Displaying Confusion Matrix:\n"
          ]
        },
        {
          "output_type": "display_data",
          "data": {
            "text/plain": [
              "<Figure size 640x480 with 2 Axes>"
            ],
            "image/png": "[encoded data removed]"
          },
          "metadata": {}
        },
        {
          "output_type": "stream",
          "name": "stdout",
          "text": [
            "------------------------------\n",
            "Predicting a new match:\n",
            "Predicted Result: [0]\n",
            "------------------------------\n"
          ]
        }
      ]
    },
    {
      "cell_type": "markdown",
      "source": [
        "# **Custom Prediction for teams**"
      ],
      "metadata": {
        "id": "LYmb1tPieEiK"
      }
    },
    {
      "cell_type": "markdown",
      "source": [
        "Getting unique teams from both columns:"
      ],
      "metadata": {
        "id": "ki6dgAvjfDaz"
      }
    },
    {
      "cell_type": "code",
      "source": [
        "home_teams = data['HomeTeam'].unique()\n",
        "away_teams = data['AwayTeam'].unique()"
      ],
      "metadata": {
        "id": "N1Ivv5QtfC42"
      },
      "execution_count": 117,
      "outputs": []
    },
    {
      "cell_type": "markdown",
      "source": [
        "Combining and getting all unique team names:"
      ],
      "metadata": {
        "id": "cd-6ereifURJ"
      }
    },
    {
      "cell_type": "code",
      "source": [
        "all_teams = set(home_teams) | set(away_teams)\n",
        "all_teams = sorted(all_teams)"
      ],
      "metadata": {
        "id": "iOFleOe-fYbK"
      },
      "execution_count": 118,
      "outputs": []
    },
    {
      "cell_type": "markdown",
      "source": [
        "Displaying the team names:"
      ],
      "metadata": {
        "id": "4qczsSTsffbg"
      }
    },
    {
      "cell_type": "code",
      "source": [
        "print(\"All Teams:\", all_teams)\n"
      ],
      "metadata": {
        "colab": {
          "base_uri": "https://localhost:8080/",
          "height": 0
        },
        "id": "eUI0WRgmfjL3",
        "outputId": "3287a000-f088-4701-c65c-849a19c52ab8"
      },
      "execution_count": 119,
      "outputs": [
        {
          "output_type": "stream",
          "name": "stdout",
          "text": [
            "All Teams: ['Ajaccio', 'Ajaccio GFCO', 'Alaves', 'Almeria', 'Amiens', 'Angers', 'Arles', 'Arsenal', 'Aston Villa', 'Atalanta', 'Ath Bilbao', 'Ath Madrid', 'Augsburg', 'Auxerre', 'Barcelona', 'Bari', 'Bastia', 'Bayern Munich', 'Benevento', 'Betis', 'Birmingham', 'Blackburn', 'Blackpool', 'Bochum', 'Bologna', 'Bolton', 'Bordeaux', 'Boulogne', 'Bournemouth', 'Braunschweig', 'Brescia', 'Brest', 'Brighton', 'Burnley', 'Caen', 'Cagliari', 'Cardiff', 'Carpi', 'Catania', 'Celta', 'Cesena', 'Chelsea', 'Chievo', 'Cordoba', 'Crotone', 'Crystal Palace', 'Darmstadt', 'Dijon', 'Dortmund', 'Eibar', 'Ein Frankfurt', 'Elche', 'Empoli', 'Espanol', 'Everton', 'Evian Thonon Gaillard', 'FC Koln', 'Fiorentina', 'Fortuna Dusseldorf', 'Freiburg', 'Frosinone', 'Fulham', 'Genoa', 'Getafe', 'Girona', 'Granada', 'Grenoble', 'Greuther Furth', 'Guingamp', 'Hamburg', 'Hannover', 'Hercules', 'Hertha', 'Hoffenheim', 'Huddersfield', 'Huesca', 'Hull', 'Ingolstadt', 'Inter', 'Juventus', 'Kaiserslautern', 'La Coruna', 'Las Palmas', 'Lazio', 'Le Mans', 'Lecce', 'Leganes', 'Leicester', 'Lens', 'Levante', 'Leverkusen', 'Lille', 'Liverpool', 'Livorno', 'Lorient', 'Lyon', \"M'gladbach\", 'Mainz', 'Malaga', 'Mallorca', 'Man City', 'Man United', 'Marseille', 'Metz', 'Middlesbrough', 'Milan', 'Monaco', 'Montpellier', 'Nancy', 'Nantes', 'Napoli', 'Newcastle', 'Nice', 'Nimes', 'Norwich', 'Novara', 'Nurnberg', 'Osasuna', 'Paderborn', 'Palermo', 'Paris SG', 'Parma', 'Pescara', 'Portsmouth', 'QPR', 'RB Leipzig', 'Reading', 'Real Madrid', 'Reims', 'Rennes', 'Roma', 'Sampdoria', 'Santander', 'Sassuolo', 'Schalke 04', 'Sevilla', 'Siena', 'Sochaux', 'Sociedad', 'Southampton', 'Sp Gijon', 'Spal', 'St Etienne', 'St Pauli', 'Stoke', 'Strasbourg', 'Stuttgart', 'Sunderland', 'Swansea', 'Tenerife', 'Torino', 'Tottenham', 'Toulouse', 'Troyes', 'Udinese', 'Valencia', 'Valenciennes', 'Valladolid', 'Vallecano', 'Verona', 'Villarreal', 'Watford', 'Werder Bremen', 'West Brom', 'West Ham', 'Wigan', 'Wolfsburg', 'Wolves', 'Xerez', 'Zaragoza']\n"
          ]
        }
      ]
    },
    {
      "cell_type": "markdown",
      "source": [
        "Preparing team stats:"
      ],
      "metadata": {
        "id": "C8kndcmnf7Ve"
      }
    },
    {
      "cell_type": "code",
      "source": [
        "home_stats = data.groupby('HomeTeam').agg({\n",
        "    'FTHG': 'mean',\n",
        "    'HS': 'mean',\n",
        "\n",
        "}).rename(columns={\n",
        "    'FTHG': 'AvgHomeGoals',\n",
        "    'HS': 'AvgHomeShots'\n",
        "})\n",
        "\n",
        "away_stats = data.groupby('AwayTeam').agg({\n",
        "    'FTAG': 'mean',\n",
        "    'AS': 'mean',\n",
        "\n",
        "}).rename(columns={\n",
        "    'FTAG': 'AvgAwayGoals',\n",
        "    'AS': 'AvgAwayShots'\n",
        "})\n",
        "\n",
        "team_stats = pd.merge(home_stats, away_stats, left_index=True, right_index=True, how='outer')\n",
        "team_stats.fillna(0, inplace=True)"
      ],
      "metadata": {
        "id": "yrGHFiaKgDjs"
      },
      "execution_count": 120,
      "outputs": []
    },
    {
      "cell_type": "markdown",
      "source": [
        "Printing availabe teams:"
      ],
      "metadata": {
        "id": "sRoXIFUQgdER"
      }
    },
    {
      "cell_type": "code",
      "source": [
        "print(\"\\nAvailable Teams:\")\n",
        "for team in sorted(team_stats.index):\n",
        "    print(\"•\", team)"
      ],
      "metadata": {
        "colab": {
          "base_uri": "https://localhost:8080/",
          "height": 0
        },
        "id": "HoQxSaBHgh09",
        "outputId": "7d5a9f54-84ff-4f4b-9f32-aa7f2d79309b"
      },
      "execution_count": 121,
      "outputs": [
        {
          "output_type": "stream",
          "name": "stdout",
          "text": [
            "\n",
            "Available Teams:\n",
            "• Ajaccio\n",
            "• Ajaccio GFCO\n",
            "• Alaves\n",
            "• Almeria\n",
            "• Amiens\n",
            "• Angers\n",
            "• Arles\n",
            "• Arsenal\n",
            "• Aston Villa\n",
            "• Atalanta\n",
            "• Ath Bilbao\n",
            "• Ath Madrid\n",
            "• Augsburg\n",
            "• Auxerre\n",
            "• Barcelona\n",
            "• Bari\n",
            "• Bastia\n",
            "• Bayern Munich\n",
            "• Benevento\n",
            "• Betis\n",
            "• Birmingham\n",
            "• Blackburn\n",
            "• Blackpool\n",
            "• Bochum\n",
            "• Bologna\n",
            "• Bolton\n",
            "• Bordeaux\n",
            "• Boulogne\n",
            "• Bournemouth\n",
            "• Braunschweig\n",
            "• Brescia\n",
            "• Brest\n",
            "• Brighton\n",
            "• Burnley\n",
            "• Caen\n",
            "• Cagliari\n",
            "• Cardiff\n",
            "• Carpi\n",
            "• Catania\n",
            "• Celta\n",
            "• Cesena\n",
            "• Chelsea\n",
            "• Chievo\n",
            "• Cordoba\n",
            "• Crotone\n",
            "• Crystal Palace\n",
            "• Darmstadt\n",
            "• Dijon\n",
            "• Dortmund\n",
            "• Eibar\n",
            "• Ein Frankfurt\n",
            "• Elche\n",
            "• Empoli\n",
            "• Espanol\n",
            "• Everton\n",
            "• Evian Thonon Gaillard\n",
            "• FC Koln\n",
            "• Fiorentina\n",
            "• Fortuna Dusseldorf\n",
            "• Freiburg\n",
            "• Frosinone\n",
            "• Fulham\n",
            "• Genoa\n",
            "• Getafe\n",
            "• Girona\n",
            "• Granada\n",
            "• Grenoble\n",
            "• Greuther Furth\n",
            "• Guingamp\n",
            "• Hamburg\n",
            "• Hannover\n",
            "• Hercules\n",
            "• Hertha\n",
            "• Hoffenheim\n",
            "• Huddersfield\n",
            "• Huesca\n",
            "• Hull\n",
            "• Ingolstadt\n",
            "• Inter\n",
            "• Juventus\n",
            "• Kaiserslautern\n",
            "• La Coruna\n",
            "• Las Palmas\n",
            "• Lazio\n",
            "• Le Mans\n",
            "• Lecce\n",
            "• Leganes\n",
            "• Leicester\n",
            "• Lens\n",
            "• Levante\n",
            "• Leverkusen\n",
            "• Lille\n",
            "• Liverpool\n",
            "• Livorno\n",
            "• Lorient\n",
            "• Lyon\n",
            "• M'gladbach\n",
            "• Mainz\n",
            "• Malaga\n",
            "• Mallorca\n",
            "• Man City\n",
            "• Man United\n",
            "• Marseille\n",
            "• Metz\n",
            "• Middlesbrough\n",
            "• Milan\n",
            "• Monaco\n",
            "• Montpellier\n",
            "• Nancy\n",
            "• Nantes\n",
            "• Napoli\n",
            "• Newcastle\n",
            "• Nice\n",
            "• Nimes\n",
            "• Norwich\n",
            "• Novara\n",
            "• Nurnberg\n",
            "• Osasuna\n",
            "• Paderborn\n",
            "• Palermo\n",
            "• Paris SG\n",
            "• Parma\n",
            "• Pescara\n",
            "• Portsmouth\n",
            "• QPR\n",
            "• RB Leipzig\n",
            "• Reading\n",
            "• Real Madrid\n",
            "• Reims\n",
            "• Rennes\n",
            "• Roma\n",
            "• Sampdoria\n",
            "• Santander\n",
            "• Sassuolo\n",
            "• Schalke 04\n",
            "• Sevilla\n",
            "• Siena\n",
            "• Sochaux\n",
            "• Sociedad\n",
            "• Southampton\n",
            "• Sp Gijon\n",
            "• Spal\n",
            "• St Etienne\n",
            "• St Pauli\n",
            "• Stoke\n",
            "• Strasbourg\n",
            "• Stuttgart\n",
            "• Sunderland\n",
            "• Swansea\n",
            "• Tenerife\n",
            "• Torino\n",
            "• Tottenham\n",
            "• Toulouse\n",
            "• Troyes\n",
            "• Udinese\n",
            "• Valencia\n",
            "• Valenciennes\n",
            "• Valladolid\n",
            "• Vallecano\n",
            "• Verona\n",
            "• Villarreal\n",
            "• Watford\n",
            "• Werder Bremen\n",
            "• West Brom\n",
            "• West Ham\n",
            "• Wigan\n",
            "• Wolfsburg\n",
            "• Wolves\n",
            "• Xerez\n",
            "• Zaragoza\n"
          ]
        }
      ]
    },
    {
      "cell_type": "markdown",
      "source": [
        "Taking user input teams:"
      ],
      "metadata": {
        "id": "8JlbZCD0gnXC"
      }
    },
    {
      "cell_type": "code",
      "source": [
        "home_team = input(\"\\nEnter Home Team: \")\n",
        "away_team = input(\"Enter Away Team: \")"
      ],
      "metadata": {
        "colab": {
          "base_uri": "https://localhost:8080/",
          "height": 0
        },
        "id": "g6B3N8FSgtRP",
        "outputId": "65c3ee68-b64c-442a-b50a-175b357b92cd"
      },
      "execution_count": 122,
      "outputs": [
        {
          "name": "stdout",
          "output_type": "stream",
          "text": [
            "\n",
            "Enter Home Team: Arsenal\n",
            "Enter Away Team: Nice\n"
          ]
        }
      ]
    },
    {
      "cell_type": "markdown",
      "source": [
        "Checking if both teams are valid and predicting the results given in input:"
      ],
      "metadata": {
        "id": "GZGdmBmAg3Pc"
      }
    },
    {
      "cell_type": "code",
      "source": [
        "if home_team not in team_stats.index or away_team not in team_stats.index:\n",
        "    print(\"❌ One or both team names are incorrect.\")\n",
        "else:\n",
        "    print(\"✅ Both teams are valid.\")\n",
        "    new_match = pd.DataFrame({\n",
        "        'HomeTeamStrength': [team_stats.loc[home_team, 'AvgHomeGoals']],\n",
        "        'AwayTeamDefense': [team_stats.loc[away_team, 'AvgAwayGoals']],\n",
        "        'FTHG': [0],\n",
        "        'FTAG': [0],\n",
        "        'HS': [team_stats.loc[home_team, 'AvgHomeShots']],\n",
        "        'AS': [team_stats.loc[away_team, 'AvgAwayShots']],\n",
        "    })\n",
        "    prediction = model.predict(new_match)\n",
        "    label = prediction[0]\n",
        "\n",
        "    if label == 0:\n",
        "        result = f\"🏠 {home_team} wins (Home Win)\"\n",
        "    elif label == 1:\n",
        "        result = \"⚖️ Draw\"\n",
        "    else:\n",
        "        result = f\"✈️ {away_team} wins Away Win\"\n",
        "\n",
        "    print(f\"\\n📊 Prediction: {home_team} vs {away_team} → {result}\")"
      ],
      "metadata": {
        "colab": {
          "base_uri": "https://localhost:8080/",
          "height": 0
        },
        "id": "Rx6VPt1Lg6Fh",
        "outputId": "f85fb22a-a738-48c2-c255-31ff64bf2da5"
      },
      "execution_count": 123,
      "outputs": [
        {
          "output_type": "stream",
          "name": "stdout",
          "text": [
            "✅ Both teams are valid.\n",
            "\n",
            "📊 Prediction: Arsenal vs Nice → 🏠 Arsenal wins (Home Win)\n"
          ]
        }
      ]
    }
  ]
}